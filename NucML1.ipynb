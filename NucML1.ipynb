{
  "cells": [
    {
      "cell_type": "markdown",
      "metadata": {
        "id": "view-in-github",
        "colab_type": "text"
      },
      "source": [
        "<a href=\"https://colab.research.google.com/github/smoliak-nick/ML_Nuclear_Data/blob/master/NucML1.ipynb\" target=\"_parent\"><img src=\"https://colab.research.google.com/assets/colab-badge.svg\" alt=\"Open In Colab\"/></a>"
      ]
    },
    {
      "cell_type": "markdown",
      "id": "23985c3b-ff7c-47b7-9d17-91ceeb079c00",
      "metadata": {
        "id": "23985c3b-ff7c-47b7-9d17-91ceeb079c00"
      },
      "source": [
        "@article{VICENTEVALDEZ2021108596,\n",
        "title = {Nuclear data evaluation augmented by machine learning},\n",
        "journal = {Annals of Nuclear Energy},\n",
        "volume = {163},\n",
        "pages = {108596},\n",
        "year = {2021},\n",
        "issn = {0306-4549},\n",
        "doi = {https://doi.org/10.1016/j.anucene.2021.108596},\n",
        "url = {https://www.sciencedirect.com/science/article/pii/S0306454921004722},\n",
        "author = {Pedro Vicente-Valdez and Lee Bernstein and Massimiliano Fratoni},\n",
        "keywords = {Machine learning, EXFOR, Uranium benchmark, Cross section evaluation},\n",
        "}"
      ]
    },
    {
      "cell_type": "code",
      "execution_count": 1,
      "id": "6824191d-5c53-4e99-a510-f7ae26d7f5b5",
      "metadata": {
        "colab": {
          "base_uri": "https://localhost:8080/"
        },
        "id": "6824191d-5c53-4e99-a510-f7ae26d7f5b5",
        "outputId": "922cd6ce-2e2c-4dd5-8b13-b460c79b4f08"
      },
      "outputs": [
        {
          "output_type": "stream",
          "name": "stdout",
          "text": [
            "Collecting nucml\n",
            "  Downloading nucml-1.0.5.dev1-py3-none-any.whl (256 kB)\n",
            "\u001b[2K     \u001b[90m━━━━━━━━━━━━━━━━━━━━━━━━━━━━━━━━━━━━━━━━\u001b[0m \u001b[32m256.9/256.9 kB\u001b[0m \u001b[31m2.6 MB/s\u001b[0m eta \u001b[36m0:00:00\u001b[0m\n",
            "\u001b[?25hRequirement already satisfied: natsort in /usr/local/lib/python3.10/dist-packages (from nucml) (8.4.0)\n",
            "Requirement already satisfied: pandas in /usr/local/lib/python3.10/dist-packages (from nucml) (2.0.3)\n",
            "Requirement already satisfied: plotly in /usr/local/lib/python3.10/dist-packages (from nucml) (5.15.0)\n",
            "Requirement already satisfied: matplotlib in /usr/local/lib/python3.10/dist-packages (from nucml) (3.7.1)\n",
            "Requirement already satisfied: scikit-learn in /usr/local/lib/python3.10/dist-packages (from nucml) (1.2.2)\n",
            "Requirement already satisfied: seaborn in /usr/local/lib/python3.10/dist-packages (from nucml) (0.13.1)\n",
            "Requirement already satisfied: imageio in /usr/local/lib/python3.10/dist-packages (from nucml) (2.31.6)\n",
            "Collecting wandb (from nucml)\n",
            "  Downloading wandb-0.17.2-py3-none-manylinux_2_5_x86_64.manylinux1_x86_64.manylinux_2_17_x86_64.manylinux2014_x86_64.whl (6.9 MB)\n",
            "\u001b[2K     \u001b[90m━━━━━━━━━━━━━━━━━━━━━━━━━━━━━━━━━━━━━━━━\u001b[0m \u001b[32m6.9/6.9 MB\u001b[0m \u001b[31m13.9 MB/s\u001b[0m eta \u001b[36m0:00:00\u001b[0m\n",
            "\u001b[?25hRequirement already satisfied: google-cloud-bigquery in /usr/local/lib/python3.10/dist-packages (from nucml) (3.21.0)\n",
            "Requirement already satisfied: google-api-core[grpc]!=2.0.*,!=2.1.*,!=2.10.*,!=2.2.*,!=2.3.*,!=2.4.*,!=2.5.*,!=2.6.*,!=2.7.*,!=2.8.*,!=2.9.*,<3.0.0dev,>=1.34.1 in /usr/local/lib/python3.10/dist-packages (from google-cloud-bigquery->nucml) (2.11.1)\n",
            "Requirement already satisfied: google-auth<3.0.0dev,>=2.14.1 in /usr/local/lib/python3.10/dist-packages (from google-cloud-bigquery->nucml) (2.27.0)\n",
            "Requirement already satisfied: google-cloud-core<3.0.0dev,>=1.6.0 in /usr/local/lib/python3.10/dist-packages (from google-cloud-bigquery->nucml) (2.3.3)\n",
            "Requirement already satisfied: google-resumable-media<3.0dev,>=0.6.0 in /usr/local/lib/python3.10/dist-packages (from google-cloud-bigquery->nucml) (2.7.0)\n",
            "Requirement already satisfied: packaging>=20.0.0 in /usr/local/lib/python3.10/dist-packages (from google-cloud-bigquery->nucml) (24.1)\n",
            "Requirement already satisfied: python-dateutil<3.0dev,>=2.7.2 in /usr/local/lib/python3.10/dist-packages (from google-cloud-bigquery->nucml) (2.8.2)\n",
            "Requirement already satisfied: requests<3.0.0dev,>=2.21.0 in /usr/local/lib/python3.10/dist-packages (from google-cloud-bigquery->nucml) (2.31.0)\n",
            "Requirement already satisfied: numpy in /usr/local/lib/python3.10/dist-packages (from imageio->nucml) (1.25.2)\n",
            "Requirement already satisfied: pillow<10.1.0,>=8.3.2 in /usr/local/lib/python3.10/dist-packages (from imageio->nucml) (9.4.0)\n",
            "Requirement already satisfied: contourpy>=1.0.1 in /usr/local/lib/python3.10/dist-packages (from matplotlib->nucml) (1.2.1)\n",
            "Requirement already satisfied: cycler>=0.10 in /usr/local/lib/python3.10/dist-packages (from matplotlib->nucml) (0.12.1)\n",
            "Requirement already satisfied: fonttools>=4.22.0 in /usr/local/lib/python3.10/dist-packages (from matplotlib->nucml) (4.53.0)\n",
            "Requirement already satisfied: kiwisolver>=1.0.1 in /usr/local/lib/python3.10/dist-packages (from matplotlib->nucml) (1.4.5)\n",
            "Requirement already satisfied: pyparsing>=2.3.1 in /usr/local/lib/python3.10/dist-packages (from matplotlib->nucml) (3.1.2)\n",
            "Requirement already satisfied: pytz>=2020.1 in /usr/local/lib/python3.10/dist-packages (from pandas->nucml) (2023.4)\n",
            "Requirement already satisfied: tzdata>=2022.1 in /usr/local/lib/python3.10/dist-packages (from pandas->nucml) (2024.1)\n",
            "Requirement already satisfied: tenacity>=6.2.0 in /usr/local/lib/python3.10/dist-packages (from plotly->nucml) (8.3.0)\n",
            "Requirement already satisfied: scipy>=1.3.2 in /usr/local/lib/python3.10/dist-packages (from scikit-learn->nucml) (1.11.4)\n",
            "Requirement already satisfied: joblib>=1.1.1 in /usr/local/lib/python3.10/dist-packages (from scikit-learn->nucml) (1.4.2)\n",
            "Requirement already satisfied: threadpoolctl>=2.0.0 in /usr/local/lib/python3.10/dist-packages (from scikit-learn->nucml) (3.5.0)\n",
            "Requirement already satisfied: click!=8.0.0,>=7.1 in /usr/local/lib/python3.10/dist-packages (from wandb->nucml) (8.1.7)\n",
            "Collecting docker-pycreds>=0.4.0 (from wandb->nucml)\n",
            "  Downloading docker_pycreds-0.4.0-py2.py3-none-any.whl (9.0 kB)\n",
            "Collecting gitpython!=3.1.29,>=1.0.0 (from wandb->nucml)\n",
            "  Downloading GitPython-3.1.43-py3-none-any.whl (207 kB)\n",
            "\u001b[2K     \u001b[90m━━━━━━━━━━━━━━━━━━━━━━━━━━━━━━━━━━━━━━━━\u001b[0m \u001b[32m207.3/207.3 kB\u001b[0m \u001b[31m17.8 MB/s\u001b[0m eta \u001b[36m0:00:00\u001b[0m\n",
            "\u001b[?25hRequirement already satisfied: platformdirs in /usr/local/lib/python3.10/dist-packages (from wandb->nucml) (4.2.2)\n",
            "Requirement already satisfied: protobuf!=4.21.0,<6,>=3.19.0 in /usr/local/lib/python3.10/dist-packages (from wandb->nucml) (3.20.3)\n",
            "Requirement already satisfied: psutil>=5.0.0 in /usr/local/lib/python3.10/dist-packages (from wandb->nucml) (5.9.5)\n",
            "Requirement already satisfied: pyyaml in /usr/local/lib/python3.10/dist-packages (from wandb->nucml) (6.0.1)\n",
            "Collecting sentry-sdk>=1.0.0 (from wandb->nucml)\n",
            "  Downloading sentry_sdk-2.6.0-py2.py3-none-any.whl (296 kB)\n",
            "\u001b[2K     \u001b[90m━━━━━━━━━━━━━━━━━━━━━━━━━━━━━━━━━━━━━━━━\u001b[0m \u001b[32m296.1/296.1 kB\u001b[0m \u001b[31m17.2 MB/s\u001b[0m eta \u001b[36m0:00:00\u001b[0m\n",
            "\u001b[?25hCollecting setproctitle (from wandb->nucml)\n",
            "  Downloading setproctitle-1.3.3-cp310-cp310-manylinux_2_5_x86_64.manylinux1_x86_64.manylinux_2_17_x86_64.manylinux2014_x86_64.whl (30 kB)\n",
            "Requirement already satisfied: setuptools in /usr/local/lib/python3.10/dist-packages (from wandb->nucml) (67.7.2)\n",
            "Requirement already satisfied: six>=1.4.0 in /usr/local/lib/python3.10/dist-packages (from docker-pycreds>=0.4.0->wandb->nucml) (1.16.0)\n",
            "Collecting gitdb<5,>=4.0.1 (from gitpython!=3.1.29,>=1.0.0->wandb->nucml)\n",
            "  Downloading gitdb-4.0.11-py3-none-any.whl (62 kB)\n",
            "\u001b[2K     \u001b[90m━━━━━━━━━━━━━━━━━━━━━━━━━━━━━━━━━━━━━━━━\u001b[0m \u001b[32m62.7/62.7 kB\u001b[0m \u001b[31m7.3 MB/s\u001b[0m eta \u001b[36m0:00:00\u001b[0m\n",
            "\u001b[?25hRequirement already satisfied: googleapis-common-protos<2.0.dev0,>=1.56.2 in /usr/local/lib/python3.10/dist-packages (from google-api-core[grpc]!=2.0.*,!=2.1.*,!=2.10.*,!=2.2.*,!=2.3.*,!=2.4.*,!=2.5.*,!=2.6.*,!=2.7.*,!=2.8.*,!=2.9.*,<3.0.0dev,>=1.34.1->google-cloud-bigquery->nucml) (1.63.1)\n",
            "Requirement already satisfied: grpcio<2.0dev,>=1.33.2 in /usr/local/lib/python3.10/dist-packages (from google-api-core[grpc]!=2.0.*,!=2.1.*,!=2.10.*,!=2.2.*,!=2.3.*,!=2.4.*,!=2.5.*,!=2.6.*,!=2.7.*,!=2.8.*,!=2.9.*,<3.0.0dev,>=1.34.1->google-cloud-bigquery->nucml) (1.64.1)\n",
            "Requirement already satisfied: grpcio-status<2.0.dev0,>=1.33.2 in /usr/local/lib/python3.10/dist-packages (from google-api-core[grpc]!=2.0.*,!=2.1.*,!=2.10.*,!=2.2.*,!=2.3.*,!=2.4.*,!=2.5.*,!=2.6.*,!=2.7.*,!=2.8.*,!=2.9.*,<3.0.0dev,>=1.34.1->google-cloud-bigquery->nucml) (1.48.2)\n",
            "Requirement already satisfied: cachetools<6.0,>=2.0.0 in /usr/local/lib/python3.10/dist-packages (from google-auth<3.0.0dev,>=2.14.1->google-cloud-bigquery->nucml) (5.3.3)\n",
            "Requirement already satisfied: pyasn1-modules>=0.2.1 in /usr/local/lib/python3.10/dist-packages (from google-auth<3.0.0dev,>=2.14.1->google-cloud-bigquery->nucml) (0.4.0)\n",
            "Requirement already satisfied: rsa<5,>=3.1.4 in /usr/local/lib/python3.10/dist-packages (from google-auth<3.0.0dev,>=2.14.1->google-cloud-bigquery->nucml) (4.9)\n",
            "Requirement already satisfied: google-crc32c<2.0dev,>=1.0 in /usr/local/lib/python3.10/dist-packages (from google-resumable-media<3.0dev,>=0.6.0->google-cloud-bigquery->nucml) (1.5.0)\n",
            "Requirement already satisfied: charset-normalizer<4,>=2 in /usr/local/lib/python3.10/dist-packages (from requests<3.0.0dev,>=2.21.0->google-cloud-bigquery->nucml) (3.3.2)\n",
            "Requirement already satisfied: idna<4,>=2.5 in /usr/local/lib/python3.10/dist-packages (from requests<3.0.0dev,>=2.21.0->google-cloud-bigquery->nucml) (3.7)\n",
            "Requirement already satisfied: urllib3<3,>=1.21.1 in /usr/local/lib/python3.10/dist-packages (from requests<3.0.0dev,>=2.21.0->google-cloud-bigquery->nucml) (2.0.7)\n",
            "Requirement already satisfied: certifi>=2017.4.17 in /usr/local/lib/python3.10/dist-packages (from requests<3.0.0dev,>=2.21.0->google-cloud-bigquery->nucml) (2024.6.2)\n",
            "Collecting smmap<6,>=3.0.1 (from gitdb<5,>=4.0.1->gitpython!=3.1.29,>=1.0.0->wandb->nucml)\n",
            "  Downloading smmap-5.0.1-py3-none-any.whl (24 kB)\n",
            "Requirement already satisfied: pyasn1<0.7.0,>=0.4.6 in /usr/local/lib/python3.10/dist-packages (from pyasn1-modules>=0.2.1->google-auth<3.0.0dev,>=2.14.1->google-cloud-bigquery->nucml) (0.6.0)\n",
            "Installing collected packages: smmap, setproctitle, sentry-sdk, docker-pycreds, gitdb, gitpython, wandb, nucml\n",
            "Successfully installed docker-pycreds-0.4.0 gitdb-4.0.11 gitpython-3.1.43 nucml-1.0.5.dev1 sentry-sdk-2.6.0 setproctitle-1.3.3 smmap-5.0.1 wandb-0.17.2\n"
          ]
        }
      ],
      "source": [
        "!pip install nucml"
      ]
    },
    {
      "cell_type": "code",
      "execution_count": 2,
      "id": "7a1e6175-0b4d-4aab-9fe2-d0457c9c1923",
      "metadata": {
        "colab": {
          "base_uri": "https://localhost:8080/"
        },
        "id": "7a1e6175-0b4d-4aab-9fe2-d0457c9c1923",
        "outputId": "43b18f5b-a0dd-4ef9-e624-228424fc05fc"
      },
      "outputs": [
        {
          "output_type": "stream",
          "name": "stdout",
          "text": [
            "Collecting git+https://github.com/tensorflow/docs\n",
            "  Cloning https://github.com/tensorflow/docs to /tmp/pip-req-build-5j5yfv2m\n",
            "  Running command git clone --filter=blob:none --quiet https://github.com/tensorflow/docs /tmp/pip-req-build-5j5yfv2m\n",
            "  Resolved https://github.com/tensorflow/docs to commit 75b2672b5bed8ca0995663536db84bd9a39b8896\n",
            "  Preparing metadata (setup.py) ... \u001b[?25l\u001b[?25hdone\n",
            "Collecting astor (from tensorflow-docs==2024.5.3.31743)\n",
            "  Downloading astor-0.8.1-py2.py3-none-any.whl (27 kB)\n",
            "Requirement already satisfied: absl-py in /usr/local/lib/python3.10/dist-packages (from tensorflow-docs==2024.5.3.31743) (1.4.0)\n",
            "Requirement already satisfied: jinja2 in /usr/local/lib/python3.10/dist-packages (from tensorflow-docs==2024.5.3.31743) (3.1.4)\n",
            "Requirement already satisfied: nbformat in /usr/local/lib/python3.10/dist-packages (from tensorflow-docs==2024.5.3.31743) (5.10.4)\n",
            "Requirement already satisfied: protobuf>=3.12 in /usr/local/lib/python3.10/dist-packages (from tensorflow-docs==2024.5.3.31743) (3.20.3)\n",
            "Requirement already satisfied: pyyaml in /usr/local/lib/python3.10/dist-packages (from tensorflow-docs==2024.5.3.31743) (6.0.1)\n",
            "Requirement already satisfied: MarkupSafe>=2.0 in /usr/local/lib/python3.10/dist-packages (from jinja2->tensorflow-docs==2024.5.3.31743) (2.1.5)\n",
            "Requirement already satisfied: fastjsonschema>=2.15 in /usr/local/lib/python3.10/dist-packages (from nbformat->tensorflow-docs==2024.5.3.31743) (2.19.1)\n",
            "Requirement already satisfied: jsonschema>=2.6 in /usr/local/lib/python3.10/dist-packages (from nbformat->tensorflow-docs==2024.5.3.31743) (4.19.2)\n",
            "Requirement already satisfied: jupyter-core!=5.0.*,>=4.12 in /usr/local/lib/python3.10/dist-packages (from nbformat->tensorflow-docs==2024.5.3.31743) (5.7.2)\n",
            "Requirement already satisfied: traitlets>=5.1 in /usr/local/lib/python3.10/dist-packages (from nbformat->tensorflow-docs==2024.5.3.31743) (5.7.1)\n",
            "Requirement already satisfied: attrs>=22.2.0 in /usr/local/lib/python3.10/dist-packages (from jsonschema>=2.6->nbformat->tensorflow-docs==2024.5.3.31743) (23.2.0)\n",
            "Requirement already satisfied: jsonschema-specifications>=2023.03.6 in /usr/local/lib/python3.10/dist-packages (from jsonschema>=2.6->nbformat->tensorflow-docs==2024.5.3.31743) (2023.12.1)\n",
            "Requirement already satisfied: referencing>=0.28.4 in /usr/local/lib/python3.10/dist-packages (from jsonschema>=2.6->nbformat->tensorflow-docs==2024.5.3.31743) (0.35.1)\n",
            "Requirement already satisfied: rpds-py>=0.7.1 in /usr/local/lib/python3.10/dist-packages (from jsonschema>=2.6->nbformat->tensorflow-docs==2024.5.3.31743) (0.18.1)\n",
            "Requirement already satisfied: platformdirs>=2.5 in /usr/local/lib/python3.10/dist-packages (from jupyter-core!=5.0.*,>=4.12->nbformat->tensorflow-docs==2024.5.3.31743) (4.2.2)\n",
            "Building wheels for collected packages: tensorflow-docs\n",
            "  Building wheel for tensorflow-docs (setup.py) ... \u001b[?25l\u001b[?25hdone\n",
            "  Created wheel for tensorflow-docs: filename=tensorflow_docs-2024.5.3.31743-py3-none-any.whl size=182531 sha256=8730a8a39e012528617cc2fcbc59c627490091bd6a1c3dfef9d763fd285c7b3c\n",
            "  Stored in directory: /tmp/pip-ephem-wheel-cache-w5tevi32/wheels/86/0f/1e/3b62293c8ffd0fd5a49508e6871cdb7554abe9c62afd35ec53\n",
            "Successfully built tensorflow-docs\n",
            "Installing collected packages: astor, tensorflow-docs\n",
            "Successfully installed astor-0.8.1 tensorflow-docs-2024.5.3.31743\n"
          ]
        }
      ],
      "source": [
        "pip install git+https://github.com/tensorflow/docs"
      ]
    },
    {
      "cell_type": "code",
      "execution_count": 3,
      "id": "95cb4a2f-0c47-4cd9-9193-53ed14ed5827",
      "metadata": {
        "colab": {
          "base_uri": "https://localhost:8080/"
        },
        "id": "95cb4a2f-0c47-4cd9-9193-53ed14ed5827",
        "outputId": "50455ea9-d5f3-4932-b7a6-ad41c32783f8"
      },
      "outputs": [
        {
          "output_type": "stream",
          "name": "stdout",
          "text": [
            "Requirement already satisfied: tensorflow in /usr/local/lib/python3.10/dist-packages (2.15.0)\n",
            "Requirement already satisfied: xgboost in /usr/local/lib/python3.10/dist-packages (2.0.3)\n",
            "Requirement already satisfied: absl-py>=1.0.0 in /usr/local/lib/python3.10/dist-packages (from tensorflow) (1.4.0)\n",
            "Requirement already satisfied: astunparse>=1.6.0 in /usr/local/lib/python3.10/dist-packages (from tensorflow) (1.6.3)\n",
            "Requirement already satisfied: flatbuffers>=23.5.26 in /usr/local/lib/python3.10/dist-packages (from tensorflow) (24.3.25)\n",
            "Requirement already satisfied: gast!=0.5.0,!=0.5.1,!=0.5.2,>=0.2.1 in /usr/local/lib/python3.10/dist-packages (from tensorflow) (0.5.4)\n",
            "Requirement already satisfied: google-pasta>=0.1.1 in /usr/local/lib/python3.10/dist-packages (from tensorflow) (0.2.0)\n",
            "Requirement already satisfied: h5py>=2.9.0 in /usr/local/lib/python3.10/dist-packages (from tensorflow) (3.9.0)\n",
            "Requirement already satisfied: libclang>=13.0.0 in /usr/local/lib/python3.10/dist-packages (from tensorflow) (18.1.1)\n",
            "Requirement already satisfied: ml-dtypes~=0.2.0 in /usr/local/lib/python3.10/dist-packages (from tensorflow) (0.2.0)\n",
            "Requirement already satisfied: numpy<2.0.0,>=1.23.5 in /usr/local/lib/python3.10/dist-packages (from tensorflow) (1.25.2)\n",
            "Requirement already satisfied: opt-einsum>=2.3.2 in /usr/local/lib/python3.10/dist-packages (from tensorflow) (3.3.0)\n",
            "Requirement already satisfied: packaging in /usr/local/lib/python3.10/dist-packages (from tensorflow) (24.1)\n",
            "Requirement already satisfied: protobuf!=4.21.0,!=4.21.1,!=4.21.2,!=4.21.3,!=4.21.4,!=4.21.5,<5.0.0dev,>=3.20.3 in /usr/local/lib/python3.10/dist-packages (from tensorflow) (3.20.3)\n",
            "Requirement already satisfied: setuptools in /usr/local/lib/python3.10/dist-packages (from tensorflow) (67.7.2)\n",
            "Requirement already satisfied: six>=1.12.0 in /usr/local/lib/python3.10/dist-packages (from tensorflow) (1.16.0)\n",
            "Requirement already satisfied: termcolor>=1.1.0 in /usr/local/lib/python3.10/dist-packages (from tensorflow) (2.4.0)\n",
            "Requirement already satisfied: typing-extensions>=3.6.6 in /usr/local/lib/python3.10/dist-packages (from tensorflow) (4.12.2)\n",
            "Requirement already satisfied: wrapt<1.15,>=1.11.0 in /usr/local/lib/python3.10/dist-packages (from tensorflow) (1.14.1)\n",
            "Requirement already satisfied: tensorflow-io-gcs-filesystem>=0.23.1 in /usr/local/lib/python3.10/dist-packages (from tensorflow) (0.37.0)\n",
            "Requirement already satisfied: grpcio<2.0,>=1.24.3 in /usr/local/lib/python3.10/dist-packages (from tensorflow) (1.64.1)\n",
            "Requirement already satisfied: tensorboard<2.16,>=2.15 in /usr/local/lib/python3.10/dist-packages (from tensorflow) (2.15.2)\n",
            "Requirement already satisfied: tensorflow-estimator<2.16,>=2.15.0 in /usr/local/lib/python3.10/dist-packages (from tensorflow) (2.15.0)\n",
            "Requirement already satisfied: keras<2.16,>=2.15.0 in /usr/local/lib/python3.10/dist-packages (from tensorflow) (2.15.0)\n",
            "Requirement already satisfied: scipy in /usr/local/lib/python3.10/dist-packages (from xgboost) (1.11.4)\n",
            "Requirement already satisfied: wheel<1.0,>=0.23.0 in /usr/local/lib/python3.10/dist-packages (from astunparse>=1.6.0->tensorflow) (0.43.0)\n",
            "Requirement already satisfied: google-auth<3,>=1.6.3 in /usr/local/lib/python3.10/dist-packages (from tensorboard<2.16,>=2.15->tensorflow) (2.27.0)\n",
            "Requirement already satisfied: google-auth-oauthlib<2,>=0.5 in /usr/local/lib/python3.10/dist-packages (from tensorboard<2.16,>=2.15->tensorflow) (1.2.0)\n",
            "Requirement already satisfied: markdown>=2.6.8 in /usr/local/lib/python3.10/dist-packages (from tensorboard<2.16,>=2.15->tensorflow) (3.6)\n",
            "Requirement already satisfied: requests<3,>=2.21.0 in /usr/local/lib/python3.10/dist-packages (from tensorboard<2.16,>=2.15->tensorflow) (2.31.0)\n",
            "Requirement already satisfied: tensorboard-data-server<0.8.0,>=0.7.0 in /usr/local/lib/python3.10/dist-packages (from tensorboard<2.16,>=2.15->tensorflow) (0.7.2)\n",
            "Requirement already satisfied: werkzeug>=1.0.1 in /usr/local/lib/python3.10/dist-packages (from tensorboard<2.16,>=2.15->tensorflow) (3.0.3)\n",
            "Requirement already satisfied: cachetools<6.0,>=2.0.0 in /usr/local/lib/python3.10/dist-packages (from google-auth<3,>=1.6.3->tensorboard<2.16,>=2.15->tensorflow) (5.3.3)\n",
            "Requirement already satisfied: pyasn1-modules>=0.2.1 in /usr/local/lib/python3.10/dist-packages (from google-auth<3,>=1.6.3->tensorboard<2.16,>=2.15->tensorflow) (0.4.0)\n",
            "Requirement already satisfied: rsa<5,>=3.1.4 in /usr/local/lib/python3.10/dist-packages (from google-auth<3,>=1.6.3->tensorboard<2.16,>=2.15->tensorflow) (4.9)\n",
            "Requirement already satisfied: requests-oauthlib>=0.7.0 in /usr/local/lib/python3.10/dist-packages (from google-auth-oauthlib<2,>=0.5->tensorboard<2.16,>=2.15->tensorflow) (1.3.1)\n",
            "Requirement already satisfied: charset-normalizer<4,>=2 in /usr/local/lib/python3.10/dist-packages (from requests<3,>=2.21.0->tensorboard<2.16,>=2.15->tensorflow) (3.3.2)\n",
            "Requirement already satisfied: idna<4,>=2.5 in /usr/local/lib/python3.10/dist-packages (from requests<3,>=2.21.0->tensorboard<2.16,>=2.15->tensorflow) (3.7)\n",
            "Requirement already satisfied: urllib3<3,>=1.21.1 in /usr/local/lib/python3.10/dist-packages (from requests<3,>=2.21.0->tensorboard<2.16,>=2.15->tensorflow) (2.0.7)\n",
            "Requirement already satisfied: certifi>=2017.4.17 in /usr/local/lib/python3.10/dist-packages (from requests<3,>=2.21.0->tensorboard<2.16,>=2.15->tensorflow) (2024.6.2)\n",
            "Requirement already satisfied: MarkupSafe>=2.1.1 in /usr/local/lib/python3.10/dist-packages (from werkzeug>=1.0.1->tensorboard<2.16,>=2.15->tensorflow) (2.1.5)\n",
            "Requirement already satisfied: pyasn1<0.7.0,>=0.4.6 in /usr/local/lib/python3.10/dist-packages (from pyasn1-modules>=0.2.1->google-auth<3,>=1.6.3->tensorboard<2.16,>=2.15->tensorflow) (0.6.0)\n",
            "Requirement already satisfied: oauthlib>=3.0.0 in /usr/local/lib/python3.10/dist-packages (from requests-oauthlib>=0.7.0->google-auth-oauthlib<2,>=0.5->tensorboard<2.16,>=2.15->tensorflow) (3.2.2)\n"
          ]
        }
      ],
      "source": [
        "pip install tensorflow xgboost"
      ]
    },
    {
      "cell_type": "code",
      "execution_count": null,
      "id": "1a146a69-e118-43cc-8c28-1f1dd1544397",
      "metadata": {
        "id": "1a146a69-e118-43cc-8c28-1f1dd1544397",
        "outputId": "b738ddf1-bce5-4342-9417-3a65d417f273"
      },
      "outputs": [
        {
          "name": "stdout",
          "output_type": "stream",
          "text": [
            "Defaulting to user installation because normal site-packages is not writeable\n",
            "Requirement already satisfied: office365-rest-python-client in /home/2860909s/.local/lib/python3.8/site-packages (2.5.10)\n",
            "Requirement already satisfied: msal in /home/2860909s/.local/lib/python3.8/site-packages (from office365-rest-python-client) (1.28.1)\n",
            "Requirement already satisfied: typing-extensions>=4.0.0 in /home/2860909s/.local/lib/python3.8/site-packages (from office365-rest-python-client) (4.12.1)\n",
            "Requirement already satisfied: pytz in /usr/local/lib/python3.8/site-packages (from office365-rest-python-client) (2022.2.1)\n",
            "Requirement already satisfied: requests in /usr/local/lib/python3.8/site-packages (from office365-rest-python-client) (2.26.0)\n",
            "Requirement already satisfied: PyJWT[crypto]<3,>=1.0.0 in /home/2860909s/.local/lib/python3.8/site-packages (from msal->office365-rest-python-client) (2.8.0)\n",
            "Requirement already satisfied: cryptography<45,>=2.5 in /usr/local/lib64/python3.8/site-packages (from msal->office365-rest-python-client) (3.4.8)\n",
            "Requirement already satisfied: urllib3<1.27,>=1.21.1 in /home/2860909s/.local/lib/python3.8/site-packages (from requests->office365-rest-python-client) (1.26.19)\n",
            "Requirement already satisfied: certifi>=2017.4.17 in /usr/local/lib/python3.8/site-packages (from requests->office365-rest-python-client) (2021.5.30)\n",
            "Requirement already satisfied: charset-normalizer~=2.0.0 in /usr/local/lib/python3.8/site-packages (from requests->office365-rest-python-client) (2.0.4)\n",
            "Requirement already satisfied: idna<4,>=2.5 in /usr/local/lib/python3.8/site-packages (from requests->office365-rest-python-client) (3.2)\n",
            "Requirement already satisfied: cffi>=1.12 in /usr/local/lib64/python3.8/site-packages (from cryptography<45,>=2.5->msal->office365-rest-python-client) (1.14.6)\n",
            "Requirement already satisfied: pycparser in /usr/local/lib/python3.8/site-packages (from cffi>=1.12->cryptography<45,>=2.5->msal->office365-rest-python-client) (2.20)\n",
            "\n",
            "\u001b[1m[\u001b[0m\u001b[34;49mnotice\u001b[0m\u001b[1;39;49m]\u001b[0m\u001b[39;49m A new release of pip available: \u001b[0m\u001b[31;49m22.2.2\u001b[0m\u001b[39;49m -> \u001b[0m\u001b[32;49m24.0\u001b[0m\n",
            "\u001b[1m[\u001b[0m\u001b[34;49mnotice\u001b[0m\u001b[1;39;49m]\u001b[0m\u001b[39;49m To update, run: \u001b[0m\u001b[32;49m/local/environments/default/default-venv/bin/python -m pip install --upgrade pip\u001b[0m\n",
            "Note: you may need to restart the kernel to use updated packages.\n"
          ]
        }
      ],
      "source": [
        "pip install office365-rest-python-client\n"
      ]
    },
    {
      "cell_type": "code",
      "execution_count": null,
      "id": "d69ea320-81d8-4cdf-b01f-203ac95c0280",
      "metadata": {
        "id": "d69ea320-81d8-4cdf-b01f-203ac95c0280",
        "outputId": "99ee69fe-8bae-463d-86d6-b45faa154cb8"
      },
      "outputs": [
        {
          "name": "stdout",
          "output_type": "stream",
          "text": [
            "Current working directory: /home/2860909s/MSC Project/MSC-NLS-NUCDATA/ML_Nuclear_Data\n",
            "Contents of the current directory: ['.git', '.gitignore', 'AME', 'Benchmarks', 'ENSDF', 'EXFOR', 'Evaluated_Data', 'MCFR', 'ML_ENSDF_nld', 'ML_EXFOR_data_quality', 'ML_EXFOR_neutrons', 'README.md', 'generate_bigquery_exfor.py', 'setup.cfg', '.ipynb_checkpoints', 'NucML1.ipynb']\n",
            "FileNotFoundError: [Errno 2] No such file or directory: 'C:\\\\'\n"
          ]
        }
      ],
      "source": [
        "import os\n",
        "\n",
        "# Check the current working directory\n",
        "current_directory = os.getcwd()\n",
        "print(\"Current working directory:\", current_directory)\n",
        "\n",
        "# List the contents of the current directory\n",
        "contents = os.listdir(current_directory)\n",
        "print(\"Contents of the current directory:\", contents)\n",
        "\n",
        "# Attempt to list the contents of the root directory\n",
        "try:\n",
        "    root_contents = os.listdir('C:\\\\')\n",
        "    print(\"Contents of C:\\\\\", root_contents)\n",
        "except PermissionError as e:\n",
        "    print(f\"PermissionError: {e}\")\n",
        "except FileNotFoundError as e:\n",
        "    print(f\"FileNotFoundError: {e}\")\n",
        "except Exception as e:\n",
        "    print(f\"Error: {e}\")\n"
      ]
    },
    {
      "cell_type": "code",
      "execution_count": null,
      "id": "321283c5-160c-4cb0-8a9e-d28242363294",
      "metadata": {
        "id": "321283c5-160c-4cb0-8a9e-d28242363294",
        "outputId": "bca394b4-14e4-4960-cbca-45d568009c48"
      },
      "outputs": [
        {
          "name": "stdout",
          "output_type": "stream",
          "text": [
            "Python executable path: /local/environments/default/default-venv/bin/python\n"
          ]
        }
      ],
      "source": [
        "import sys\n",
        "\n",
        "# Get the path to the current Python interpreter\n",
        "python_executable = sys.executable\n",
        "print(\"Python executable path:\", python_executable)\n"
      ]
    },
    {
      "cell_type": "code",
      "execution_count": null,
      "id": "c08a59f3-9c98-4b54-85e5-39c7464ddf14",
      "metadata": {
        "id": "c08a59f3-9c98-4b54-85e5-39c7464ddf14"
      },
      "outputs": [],
      "source": [
        "import subprocess"
      ]
    },
    {
      "cell_type": "code",
      "execution_count": null,
      "id": "1f17f04f-df45-42dd-b1d2-4430d90f93c4",
      "metadata": {
        "id": "1f17f04f-df45-42dd-b1d2-4430d90f93c4",
        "outputId": "ca141b2e-e482-422f-bd90-43d850169b30"
      },
      "outputs": [
        {
          "name": "stdout",
          "output_type": "stream",
          "text": [
            "Checking for .C4 files in: /home/2860909s/MSC Project/MSC-NLS-NUCDATA/ML_Nuclear_Data\n",
            "Checking if AME file exists at: /home/2860909s/MSC Project/MSC-NLS-NUCDATA/ML_Nuclear_Data/AME/CSV_Files/AME_Natural_Properties_w_NaN.csv\n",
            "File exists: True\n"
          ]
        }
      ],
      "source": [
        "import nucml.datasets as nuc_data\n",
        "\n",
        "exfor_directory = os.path.abspath(\".\")\n",
        "print(f\"Checking for .C4 files in: {exfor_directory}\")\n",
        "\n",
        "# Add debug print statements before accessing the CSV file\n",
        "ame_file_path = '/home/2860909s/MSC Project/MSC-NLS-NUCDATA/ML_Nuclear_Data/AME/CSV_Files/AME_Natural_Properties_w_NaN.csv'\n",
        "print(f\"Checking if AME file exists at: {ame_file_path}\")\n",
        "print(f\"File exists: {os.path.exists(ame_file_path)}\")"
      ]
    },
    {
      "cell_type": "code",
      "execution_count": null,
      "id": "1e12b94b-6698-4a27-9e0e-a49668e1c961",
      "metadata": {
        "id": "1e12b94b-6698-4a27-9e0e-a49668e1c961",
        "outputId": "cd80fb08-3ca3-4dbb-f7e4-8d38e7a9fc77"
      },
      "outputs": [
        {
          "name": "stdout",
          "output_type": "stream",
          "text": [
            "Checking if AME file exists at: /home/2860909s/MSC Project/MSC-NLS-NUCDATA/ML_Nuclear_Data/AME/CSV_Files/AME_Natural_Properties_w_NaN.csv\n",
            "File exists: True\n",
            "File readable: True\n"
          ]
        }
      ],
      "source": [
        "ame_file_path = '/home/2860909s/MSC Project/MSC-NLS-NUCDATA/ML_Nuclear_Data/AME/CSV_Files/AME_Natural_Properties_w_NaN.csv'\n",
        "print(f\"Checking if AME file exists at: {ame_file_path}\")\n",
        "print(f\"File exists: {os.path.exists(ame_file_path)}\")\n",
        "print(f\"File readable: {os.access(ame_file_path, os.R_OK)}\")"
      ]
    },
    {
      "cell_type": "code",
      "execution_count": null,
      "id": "80766f95-d180-4b52-b821-2cc158a052c5",
      "metadata": {
        "id": "80766f95-d180-4b52-b821-2cc158a052c5",
        "outputId": "0ca47699-7191-48b7-8c24-1037d226132c"
      },
      "outputs": [
        {
          "name": "stdout",
          "output_type": "stream",
          "text": [
            "Checking for .C4 files in: /home/2860909s/MSC Project/MSC-NLS-NUCDATA/ML_Nuclear_Data\n",
            "Checking if AME file exists at: /home/2860909s/MSC Project/MSC-NLS-NUCDATA/ML_Nuclear_Data/AME/CSV_Files/AME_Natural_Properties_w_NaN.csv\n",
            "File exists: True\n",
            "File readable: True\n"
          ]
        }
      ],
      "source": [
        "exfor_directory = os.path.abspath(\".\")\n",
        "print(f\"Checking for .C4 files in: {exfor_directory}\")\n",
        "\n",
        "ame_file_path = '/home/2860909s/MSC Project/MSC-NLS-NUCDATA/ML_Nuclear_Data/AME/CSV_Files/AME_Natural_Properties_w_NaN.csv'\n",
        "print(f\"Checking if AME file exists at: {ame_file_path}\")\n",
        "print(f\"File exists: {os.path.exists(ame_file_path)}\")\n",
        "print(f\"File readable: {os.access(ame_file_path, os.R_OK)}\")"
      ]
    },
    {
      "cell_type": "code",
      "execution_count": null,
      "id": "324e1e78-e1f7-4ed4-b8ce-c2710c9e5840",
      "metadata": {
        "id": "324e1e78-e1f7-4ed4-b8ce-c2710c9e5840",
        "outputId": "5732814f-d8dc-46d3-d059-b8ac5206a028"
      },
      "outputs": [
        {
          "name": "stdout",
          "output_type": "stream",
          "text": [
            "File moved to: /home/2860909s/MSC Project/MSC-NLS-NUCDATA/AME/CSV_Files/AME_Natural_Properties_w_NaN.csv\n"
          ]
        }
      ],
      "source": [
        "import shutil\n",
        "import sys\n",
        "# Define the current and expected paths\n",
        "current_path = '/home/2860909s/MSC Project/MSC-NLS-NUCDATA/ML_Nuclear_Data/AME/CSV_Files/AME_Natural_Properties_w_NaN.csv'\n",
        "expected_path_dir = '/home/2860909s/MSC Project/MSC-NLS-NUCDATA/AME/CSV_Files'\n",
        "\n",
        "# Create the expected directory if it does not exist\n",
        "os.makedirs(expected_path_dir, exist_ok=True)\n",
        "\n",
        "# Move or create a symlink to the file\n",
        "expected_path = os.path.join(expected_path_dir, 'AME_Natural_Properties_w_NaN.csv')\n",
        "try:\n",
        "    shutil.copy(current_path, expected_path)\n",
        "    print(f\"File moved to: {expected_path}\")\n",
        "except Exception as e:\n",
        "    print(f\"An error occurred while moving the file: {e}\")"
      ]
    },
    {
      "cell_type": "code",
      "execution_count": null,
      "id": "65f598fe-f7de-4e1f-8caf-3f6bb0072412",
      "metadata": {
        "id": "65f598fe-f7de-4e1f-8caf-3f6bb0072412",
        "outputId": "f81b5371-e6d7-41db-c237-d2bd3602e42d"
      },
      "outputs": [
        {
          "name": "stderr",
          "output_type": "stream",
          "text": [
            "INFO:root:GEN_UTILS: Searching for *.c4 files...\n",
            "INFO:root:C4: Finished. Found 628 .c4 files.\n",
            "INFO:root:GEN UTILS: Directory already exists.\n",
            "INFO:root:GEN UTILS: Re-initializing...\n",
            "INFO:root:GEN UTILS: Directory restarted.\n",
            "INFO:root:GEN UTILS: Directory already exists.\n",
            "INFO:root:GEN UTILS: Re-initializing...\n",
            "INFO:root:GEN UTILS: Directory restarted.\n",
            "INFO:root:EXFOR: Extracting experimental data, authors, years, institutes, and dates...\n",
            "INFO:root:EXFOR: Finished extracting experimental data, authors, years, institutes, and dates.\n",
            "INFO:root:EXFOR: Extracting titles, references, and number of data points per experiment...\n",
            "INFO:root:EXFOR: Finished extracting titles, references, and number of data points per experiment.\n",
            "INFO:root:EXFOR: Formatting experimental data...\n",
            "INFO:root:EXFOR: Finished formating experimental data.\n",
            "INFO:root:EXFOR: Finished.\n",
            "INFO:root:EXFOR CSV: Reading data points from /home/2860909s/MSC Project/MSC-NLS-NUCDATA/ML_Nuclear_Data/EXFOR/CSV_Files/EXFOR_neutrons/all_cross_sections_v1.txt file into a DataFrame...\n",
            "/home/2860909s/.local/lib/python3.8/site-packages/nucml/exfor/parsing.py:250: DtypeWarning: Columns (8,9,10,11,12,18,20) have mixed types. Specify dtype option on import or set low_memory=False.\n",
            "  df = pd.read_csv(os.path.join(heavy_path, \"all_cross_sections_v1.txt\"), names=colnames, header=None, index_col=False, sep=\";\")\n",
            "INFO:root:EXFOR CSV: Formatting data (this may take a couple minutes)...\n",
            "INFO:root:EXFOR CSV: Finished converting Energy to float.\n",
            "INFO:root:EXFOR CSV: Finished converting dEnergy to float.\n",
            "INFO:root:EXFOR CSV: Finished converting Data to float.\n",
            "INFO:root:EXFOR CSV: Finished converting dData to float.\n",
            "INFO:root:EXFOR CSV: Finished converting Cos/LO to float.\n",
            "INFO:root:EXFOR CSV: Finished converting dCos/LO to float.\n",
            "INFO:root:EXFOR CSV: Finished converting ELV/HL to float.\n",
            "INFO:root:EXFOR CSV: Finished converting dELV/HL to float.\n",
            "INFO:root:EXFOR CSV: Reading .txt files from /home/2860909s/MSC Project/MSC-NLS-NUCDATA/ML_Nuclear_Data/EXFOR/tmp/Extracted_Text_neutrons into DataFrames...\n",
            "INFO:root:EXFOR CSV: Expanding information based on the number of datapoints per experimental campaign...\n",
            "INFO:root:EXFOR CSV: Appending information to main DataFrame...\n",
            "INFO:root:EXFOR CSV: Saving EXFOR CSV file to /home/2860909s/MSC Project/MSC-NLS-NUCDATA/ML_Nuclear_Data/EXFOR/CSV_Files/EXFOR_neutrons/EXFOR_neutrons_ORIGINAL.csv...\n",
            "INFO:root:EXFOR CSV: Reading AME file...\n",
            "INFO:root:EXFOR CSV: Appending AME data to EXFOR File...\n",
            "INFO:root:EXFOR CSV: Saving EXFOR CSV file to /home/2860909s/MSC Project/MSC-NLS-NUCDATA/ML_Nuclear_Data/EXFOR/CSV_Files/EXFOR_neutrons/EXFOR_neutrons_ORIGINAL_w_AME.csv...\n",
            "Traceback (most recent call last):\n",
            "  File \"/local/environments/default/default-venv/lib64/python3.8/site-packages/pandas/io/formats/csvs.py\", line 261, in save\n",
            "    self._save()\n",
            "  File \"/local/environments/default/default-venv/lib64/python3.8/site-packages/pandas/io/formats/csvs.py\", line 266, in _save\n",
            "    self._save_body()\n",
            "  File \"/local/environments/default/default-venv/lib64/python3.8/site-packages/pandas/io/formats/csvs.py\", line 304, in _save_body\n",
            "    self._save_chunk(start_i, end_i)\n",
            "  File \"/local/environments/default/default-venv/lib64/python3.8/site-packages/pandas/io/formats/csvs.py\", line 315, in _save_chunk\n",
            "    libwriters.write_csv_rows(\n",
            "  File \"pandas/_libs/writers.pyx\", line 72, in pandas._libs.writers.write_csv_rows\n",
            "OSError: [Errno 122] Disk quota exceeded\n",
            "\n",
            "During handling of the above exception, another exception occurred:\n",
            "\n",
            "Traceback (most recent call last):\n",
            "  File \"/home/2860909s/MSC Project/MSC-NLS-NUCDATA/ML_Nuclear_Data/generate_exfor.py\", line 4, in <module>\n",
            "    nuc_data.generate_exfor_dataset(\".\")\n",
            "  File \"/home/2860909s/.local/lib/python3.8/site-packages/nucml/datasets.py\", line 49, in generate_exfor_dataset\n",
            "    exfor_parsing.csv_creator(heavy_dir, tmp_dir, mode, append_ame=True)\n",
            "  File \"/home/2860909s/.local/lib/python3.8/site-packages/nucml/exfor/parsing.py\", line 486, in csv_creator\n",
            "    df.to_csv(csv_name, index=False)\n",
            "  File \"/local/environments/default/default-venv/lib64/python3.8/site-packages/pandas/core/generic.py\", line 3551, in to_csv\n",
            "    return DataFrameRenderer(formatter).to_csv(\n",
            "  File \"/local/environments/default/default-venv/lib64/python3.8/site-packages/pandas/io/formats/format.py\", line 1180, in to_csv\n",
            "    csv_formatter.save()\n",
            "  File \"/local/environments/default/default-venv/lib64/python3.8/site-packages/pandas/io/formats/csvs.py\", line 261, in save\n",
            "    self._save()\n",
            "  File \"/local/environments/default/default-venv/lib64/python3.8/site-packages/pandas/io/common.py\", line 124, in __exit__\n",
            "    self.close()\n",
            "  File \"/local/environments/default/default-venv/lib64/python3.8/site-packages/pandas/io/common.py\", line 116, in close\n",
            "    handle.close()\n",
            "OSError: [Errno 122] Disk quota exceeded\n"
          ]
        },
        {
          "name": "stdout",
          "output_type": "stream",
          "text": [
            "An error occurred while generating EXFOR datasets: Command '['/local/environments/default/default-venv/bin/python', '/home/2860909s/MSC Project/MSC-NLS-NUCDATA/ML_Nuclear_Data/generate_exfor.py']' returned non-zero exit status 1.\n"
          ]
        }
      ],
      "source": [
        "\n",
        "# Path to the generate_exfor.py script\n",
        "generate_script_path = '/home/2860909s/MSC Project/MSC-NLS-NUCDATA/ML_Nuclear_Data/generate_exfor.py'\n",
        "\n",
        "try:\n",
        "    subprocess.run([python_executable, generate_script_path], check=True)\n",
        "    print(\"EXFOR datasets generated successfully.\")\n",
        "except subprocess.CalledProcessError as e:\n",
        "    print(f\"An error occurred while generating EXFOR datasets: {e}\")\n"
      ]
    },
    {
      "cell_type": "code",
      "execution_count": null,
      "id": "97d0dbc0-c032-4e69-8948-6b7320551669",
      "metadata": {
        "id": "97d0dbc0-c032-4e69-8948-6b7320551669",
        "outputId": "2e23e667-5670-4ee1-db91-d78ba25b03a6"
      },
      "outputs": [
        {
          "name": "stdout",
          "output_type": "stream",
          "text": [
            "Files to be deleted:\n",
            "/home/2860909s/MSC Project/MSC-NLS-NUCDATA/ML_Nuclear_Data/EXFOR/tmp/Extracted_Text_neutrons/authors.txt: 1.114689826965332 MB\n",
            "/home/2860909s/MSC Project/MSC-NLS-NUCDATA/ML_Nuclear_Data/EXFOR/tmp/Extracted_Text_neutrons/years.txt: 0.7843751907348633 MB\n",
            "/home/2860909s/MSC Project/MSC-NLS-NUCDATA/ML_Nuclear_Data/EXFOR/tmp/Extracted_Text_neutrons/institutes.txt: 1.013819694519043 MB\n",
            "/home/2860909s/MSC Project/MSC-NLS-NUCDATA/ML_Nuclear_Data/EXFOR/tmp/Extracted_Text_neutrons/entry.txt: 0.8305149078369141 MB\n",
            "/home/2860909s/MSC Project/MSC-NLS-NUCDATA/ML_Nuclear_Data/EXFOR/tmp/Extracted_Text_neutrons/refcode.txt: 1.549983024597168 MB\n",
            "/home/2860909s/MSC Project/MSC-NLS-NUCDATA/ML_Nuclear_Data/EXFOR/tmp/Extracted_Text_neutrons/dataset_num.txt: 0.9782619476318359 MB\n",
            "/home/2860909s/MSC Project/MSC-NLS-NUCDATA/ML_Nuclear_Data/EXFOR/tmp/Extracted_Text_neutrons/dates.txt: 0.9689340591430664 MB\n",
            "/home/2860909s/MSC Project/MSC-NLS-NUCDATA/ML_Nuclear_Data/EXFOR/tmp/Extracted_Text_neutrons/titles.txt: 4.36439323425293 MB\n",
            "/home/2860909s/MSC Project/MSC-NLS-NUCDATA/ML_Nuclear_Data/EXFOR/tmp/Extracted_Text_neutrons/references.txt: 3.268564224243164 MB\n",
            "/home/2860909s/MSC Project/MSC-NLS-NUCDATA/ML_Nuclear_Data/EXFOR/tmp/Extracted_Text_neutrons/data_points_per_experiment_refined.txt: 0.6675224304199219 MB\n",
            "/home/2860909s/MSC Project/MSC-NLS-NUCDATA/ML_Nuclear_Data/EXFOR/tmp/Extracted_Text_neutrons/reaction_notations.txt: 1.821441650390625 MB\n",
            "/home/2860909s/MSC Project/MSC-NLS-NUCDATA/ML_Nuclear_Data/EXFOR/CSV_Files/EXFOR_neutrons/all_cross_sections_v1.txt: 894.3626594543457 MB\n",
            "/home/2860909s/MSC Project/MSC-NLS-NUCDATA/ML_Nuclear_Data/EXFOR/CSV_Files/EXFOR_neutrons/EXFOR_neutrons_ORIGINAL.csv: 2405.5687007904053 MB\n",
            "/home/2860909s/MSC Project/MSC-NLS-NUCDATA/ML_Nuclear_Data/EXFOR/CSV_Files/EXFOR_neutrons/EXFOR_neutrons_ORIGINAL_w_AME.csv: 2986.75 MB\n",
            "\n",
            "Total size to be freed: 6304.043860435486 MB\n"
          ]
        },
        {
          "name": "stdin",
          "output_type": "stream",
          "text": [
            "\n",
            "Do you want to proceed with deleting these files? (yes/no):  yes\n"
          ]
        },
        {
          "name": "stdout",
          "output_type": "stream",
          "text": [
            "Deleted: /home/2860909s/MSC Project/MSC-NLS-NUCDATA/ML_Nuclear_Data/EXFOR/tmp/Extracted_Text_neutrons/authors.txt\n",
            "Deleted: /home/2860909s/MSC Project/MSC-NLS-NUCDATA/ML_Nuclear_Data/EXFOR/tmp/Extracted_Text_neutrons/years.txt\n",
            "Deleted: /home/2860909s/MSC Project/MSC-NLS-NUCDATA/ML_Nuclear_Data/EXFOR/tmp/Extracted_Text_neutrons/institutes.txt\n",
            "Deleted: /home/2860909s/MSC Project/MSC-NLS-NUCDATA/ML_Nuclear_Data/EXFOR/tmp/Extracted_Text_neutrons/entry.txt\n",
            "Deleted: /home/2860909s/MSC Project/MSC-NLS-NUCDATA/ML_Nuclear_Data/EXFOR/tmp/Extracted_Text_neutrons/refcode.txt\n",
            "Deleted: /home/2860909s/MSC Project/MSC-NLS-NUCDATA/ML_Nuclear_Data/EXFOR/tmp/Extracted_Text_neutrons/dataset_num.txt\n",
            "Deleted: /home/2860909s/MSC Project/MSC-NLS-NUCDATA/ML_Nuclear_Data/EXFOR/tmp/Extracted_Text_neutrons/dates.txt\n",
            "Deleted: /home/2860909s/MSC Project/MSC-NLS-NUCDATA/ML_Nuclear_Data/EXFOR/tmp/Extracted_Text_neutrons/titles.txt\n",
            "Deleted: /home/2860909s/MSC Project/MSC-NLS-NUCDATA/ML_Nuclear_Data/EXFOR/tmp/Extracted_Text_neutrons/references.txt\n",
            "Deleted: /home/2860909s/MSC Project/MSC-NLS-NUCDATA/ML_Nuclear_Data/EXFOR/tmp/Extracted_Text_neutrons/data_points_per_experiment_refined.txt\n",
            "Deleted: /home/2860909s/MSC Project/MSC-NLS-NUCDATA/ML_Nuclear_Data/EXFOR/tmp/Extracted_Text_neutrons/reaction_notations.txt\n",
            "Deleted: /home/2860909s/MSC Project/MSC-NLS-NUCDATA/ML_Nuclear_Data/EXFOR/CSV_Files/EXFOR_neutrons/all_cross_sections_v1.txt\n",
            "Deleted: /home/2860909s/MSC Project/MSC-NLS-NUCDATA/ML_Nuclear_Data/EXFOR/CSV_Files/EXFOR_neutrons/EXFOR_neutrons_ORIGINAL.csv\n",
            "Deleted: /home/2860909s/MSC Project/MSC-NLS-NUCDATA/ML_Nuclear_Data/EXFOR/CSV_Files/EXFOR_neutrons/EXFOR_neutrons_ORIGINAL_w_AME.csv\n",
            "Cleanup completed.\n"
          ]
        }
      ],
      "source": [
        "## File deleting step - needed if the above operation got half way through\n",
        "# Step 1: List files to be deleted and calculate total size\n",
        "directories_to_clean = [\n",
        "    '/home/2860909s/MSC Project/MSC-NLS-NUCDATA/ML_Nuclear_Data/EXFOR/tmp',\n",
        "    '/home/2860909s/MSC Project/MSC-NLS-NUCDATA/ML_Nuclear_Data/EXFOR/CSV_Files'\n",
        "]\n",
        "\n",
        "files_to_delete = []\n",
        "total_size = 0\n",
        "\n",
        "for directory in directories_to_clean:\n",
        "    if os.path.exists(directory):\n",
        "        for root, dirs, files in os.walk(directory):\n",
        "            for filename in files:\n",
        "                file_path = os.path.join(root, filename)\n",
        "                file_size = os.path.getsize(file_path)\n",
        "                files_to_delete.append((file_path, file_size))\n",
        "                total_size += file_size\n",
        "\n",
        "# Print the files to be deleted and their sizes\n",
        "print(\"Files to be deleted:\")\n",
        "for file_path, file_size in files_to_delete:\n",
        "    print(f\"{file_path}: {file_size / (1024 * 1024)} MB\")\n",
        "\n",
        "print(f\"\\nTotal size to be freed: {total_size / (1024 * 1024)} MB\")\n",
        "\n",
        "# Step 2: Delete the files if confirmed\n",
        "confirm = input(\"\\nDo you want to proceed with deleting these files? (yes/no): \")\n",
        "if confirm.lower() == 'yes':\n",
        "    for file_path, file_size in files_to_delete:\n",
        "        try:\n",
        "            os.unlink(file_path)\n",
        "            print(f\"Deleted: {file_path}\")\n",
        "        except Exception as e:\n",
        "            print(f\"Failed to delete {file_path}. Reason: {e}\")\n",
        "\n",
        "    print(\"Cleanup completed.\")\n",
        "else:\n",
        "    print(\"Cleanup aborted.\")"
      ]
    },
    {
      "cell_type": "code",
      "execution_count": null,
      "id": "79b96042-3a63-40fc-bc8c-e0f5b8200e9c",
      "metadata": {
        "id": "79b96042-3a63-40fc-bc8c-e0f5b8200e9c"
      },
      "outputs": [],
      "source": []
    }
  ],
  "metadata": {
    "kernelspec": {
      "display_name": "Default",
      "language": "python",
      "name": "python3"
    },
    "language_info": {
      "codemirror_mode": {
        "name": "ipython",
        "version": 3
      },
      "file_extension": ".py",
      "mimetype": "text/x-python",
      "name": "python",
      "nbconvert_exporter": "python",
      "pygments_lexer": "ipython3",
      "version": "3.8.17"
    },
    "colab": {
      "provenance": [],
      "include_colab_link": true
    }
  },
  "nbformat": 4,
  "nbformat_minor": 5
}